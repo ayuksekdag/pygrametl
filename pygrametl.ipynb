{
  "nbformat": 4,
  "nbformat_minor": 0,
  "metadata": {
    "colab": {
      "name": "pygrametl.ipynb",
      "provenance": [],
      "authorship_tag": "ABX9TyN6E08SieQGzpEEF5/zcjh7",
      "include_colab_link": true
    },
    "kernelspec": {
      "name": "python3",
      "display_name": "Python 3"
    },
    "language_info": {
      "name": "python"
    }
  },
  "cells": [
    {
      "cell_type": "markdown",
      "metadata": {
        "id": "view-in-github",
        "colab_type": "text"
      },
      "source": [
        "<a href=\"https://colab.research.google.com/github/ayuksekdag/pygrametl/blob/main/pygrametl.ipynb\" target=\"_parent\"><img src=\"https://colab.research.google.com/assets/colab-badge.svg\" alt=\"Open In Colab\"/></a>"
      ]
    },
    {
      "cell_type": "markdown",
      "metadata": {
        "id": "bAf9JWMejEc5"
      },
      "source": [
        "\n",
        "\n",
        "*https://chrthomsen.github.io/pygrametl/doc/quickstart/beginner.html\n",
        "\n",
        "\n"
      ]
    },
    {
      "cell_type": "code",
      "metadata": {
        "colab": {
          "base_uri": "https://localhost:8080/"
        },
        "id": "2l8hPijeiCcm",
        "outputId": "b072e75d-a602-4f7b-da68-402c7c11620e"
      },
      "source": [
        "!pip install pygrametl\n",
        "!pip install psycopg2-binary"
      ],
      "execution_count": 4,
      "outputs": [
        {
          "output_type": "stream",
          "text": [
            "Requirement already satisfied: pygrametl in /usr/local/lib/python3.7/dist-packages (2.7)\n",
            "Requirement already satisfied: psycopg2-binary in /usr/local/lib/python3.7/dist-packages (2.9.1)\n"
          ],
          "name": "stdout"
        }
      ]
    },
    {
      "cell_type": "code",
      "metadata": {
        "id": "7cqYN-mTiLfL"
      },
      "source": [
        "import psycopg2\n",
        "\n",
        "# pygrametl's __init__ file provides a set of helper functions and more\n",
        "# importantly the class ConnectionWrapper for wrapping PEP 249 connections\n",
        "import pygrametl\n",
        "\n",
        "# pygrametl makes it simple to read external data through datasources\n",
        "from pygrametl.datasources import SQLSource, CSVSource\n",
        "\n",
        "# Interacting with the dimensions and the fact table is done through a set\n",
        "# of classes. A suitable object must be created for each\n",
        "from pygrametl.tables import Dimension, FactTable"
      ],
      "execution_count": 3,
      "outputs": []
    }
  ]
}