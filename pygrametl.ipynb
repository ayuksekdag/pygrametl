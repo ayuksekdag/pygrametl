{
  "nbformat": 4,
  "nbformat_minor": 0,
  "metadata": {
    "colab": {
      "name": "pygrametl.ipynb",
      "provenance": [],
      "authorship_tag": "ABX9TyOwkWwQCSkVDs132xovfRpW",
      "include_colab_link": true
    },
    "kernelspec": {
      "name": "python3",
      "display_name": "Python 3"
    },
    "language_info": {
      "name": "python"
    }
  },
  "cells": [
    {
      "cell_type": "markdown",
      "metadata": {
        "id": "view-in-github",
        "colab_type": "text"
      },
      "source": [
        "<a href=\"https://colab.research.google.com/github/ayuksekdag/pygrametl/blob/main/pygrametl.ipynb\" target=\"_parent\"><img src=\"https://colab.research.google.com/assets/colab-badge.svg\" alt=\"Open In Colab\"/></a>"
      ]
    },
    {
      "cell_type": "markdown",
      "metadata": {
        "id": "bAf9JWMejEc5"
      },
      "source": [
        "\n",
        "\n",
        "*https://chrthomsen.github.io/pygrametl/doc/quickstart/beginner.html\n",
        "\n",
        "\n"
      ]
    },
    {
      "cell_type": "code",
      "metadata": {
        "colab": {
          "base_uri": "https://localhost:8080/"
        },
        "id": "2l8hPijeiCcm",
        "outputId": "a7b5a1e4-742a-4435-8634-6bd622e56d2b"
      },
      "source": [
        "!pip install pygrametl\n",
        "#!pip install sqlite3"
      ],
      "execution_count": 91,
      "outputs": [
        {
          "output_type": "stream",
          "name": "stdout",
          "text": [
            "Looking in indexes: https://pypi.org/simple, https://us-python.pkg.dev/colab-wheels/public/simple/\n",
            "Requirement already satisfied: pygrametl in /usr/local/lib/python3.8/dist-packages (2.7)\n"
          ]
        }
      ]
    },
    {
      "cell_type": "code",
      "source": [
        "import sqlite3\n",
        "\n",
        "conn = sqlite3.connect('test.db')\n",
        "cur  = conn.cursor()\n",
        "cur.execute('create table if not exists product(product_id int, name string, category string, price int)')\n",
        "\n",
        "conn.close()\n"
      ],
      "metadata": {
        "id": "77Bd1Umt5BMB"
      },
      "execution_count": 92,
      "outputs": []
    },
    {
      "cell_type": "code",
      "metadata": {
        "id": "7cqYN-mTiLfL",
        "colab": {
          "base_uri": "https://localhost:8080/"
        },
        "outputId": "718b957a-949b-4d71-cda6-d12e4c0d25ff"
      },
      "source": [
        "#import sqlite3\n",
        "import pygrametl\n",
        "from pygrametl.tables import Dimension\n",
        "\n",
        "# Input is a list of rows which in pygrametl is modeled as dicts\n",
        "products = [{\n",
        "    'name': 'Calvin and Hobbes 1',\n",
        "    'category': 'Comic',\n",
        "    'price': '10'\n",
        "}, {\n",
        "    'name': 'Calvin and Hobbes 2',\n",
        "    'category': 'Comic',\n",
        "    'price': '10'\n",
        "}, {\n",
        "    'name': 'Calvin and Hobbes 3',\n",
        "    'category': 'Comic',\n",
        "    'price': '10'\n",
        "}, {\n",
        "    'name': 'Cake and Me',\n",
        "    'category': 'Cookbook',\n",
        "    'price': '15'\n",
        "}, {\n",
        "    'name': 'French Cooking',\n",
        "    'category': 'Cookbook',\n",
        "    'price': '50'\n",
        "}, {\n",
        "    'name': 'Sushi',\n",
        "    'category': 'Cookbook',\n",
        "    'price': '30'\n",
        "}, {\n",
        "    'name': 'Nineteen Eighty-Four',\n",
        "    'category': 'Novel',\n",
        "    'price': '15'\n",
        "}, {\n",
        "    'name': 'The Lord of the Rings',\n",
        "    'category': 'Novel',\n",
        "    'price': '60'\n",
        "}]\n",
        "\n",
        "#print(products)\n",
        "\n",
        "# The actual database connection is handled by a PEP 249 connection\n",
        "\n",
        "pgconn = sqlite3.connect(\"test.db\")\n",
        "\n",
        "# This ContectionWrapper will be set as a default and is then implicitly\n",
        "# used, but it is stored in conn so transactions can be committed and the\n",
        "# connection closed\n",
        "conn = pygrametl.ConnectionWrapper(connection=pgconn)\n",
        "\n",
        "# The instance of Dimension connects to the table product in the\n",
        "# database using the default connection wrapper created above, the\n",
        "# argument lookupatts specifies the column which needs to match\n",
        "# when doing a lookup for the key from this dimension\n",
        "productDimension = Dimension(name='product',\n",
        "                             key='product_id',\n",
        "                             attributes=['name', 'category', 'price'],\n",
        "                             lookupatts=['name'])\n",
        "\n",
        "# Filling a dimension is simply done by using the insert method\n",
        "\n",
        "#cur.execute('delete from product')\n",
        "\n",
        "for row in products:\n",
        "    productDimension.insert(row)\n",
        "    print(row)\n",
        "\n",
        "# Ensures that the data is committed and the connection is closed correctly\n",
        "conn.commit()\n",
        "conn.close()"
      ],
      "execution_count": 93,
      "outputs": [
        {
          "output_type": "stream",
          "name": "stdout",
          "text": [
            "{'name': 'Calvin and Hobbes 1', 'category': 'Comic', 'price': '10'}\n",
            "{'name': 'Calvin and Hobbes 2', 'category': 'Comic', 'price': '10'}\n",
            "{'name': 'Calvin and Hobbes 3', 'category': 'Comic', 'price': '10'}\n",
            "{'name': 'Cake and Me', 'category': 'Cookbook', 'price': '15'}\n",
            "{'name': 'French Cooking', 'category': 'Cookbook', 'price': '50'}\n",
            "{'name': 'Sushi', 'category': 'Cookbook', 'price': '30'}\n",
            "{'name': 'Nineteen Eighty-Four', 'category': 'Novel', 'price': '15'}\n",
            "{'name': 'The Lord of the Rings', 'category': 'Novel', 'price': '60'}\n"
          ]
        }
      ]
    },
    {
      "cell_type": "code",
      "source": [
        "import pandas as pd\n",
        "import sqlite3\n",
        "\n",
        "conn = sqlite3.connect('test.db')\n",
        "df = pd.read_sql_query(\"select product_id, name, category, price from product\", conn)\n",
        "conn.close()\n",
        "df.head()"
      ],
      "metadata": {
        "colab": {
          "base_uri": "https://localhost:8080/",
          "height": 49
        },
        "id": "EAOgxoS-tgMA",
        "outputId": "e5466f1e-08db-410b-a828-ad819e09d4c0"
      },
      "execution_count": 94,
      "outputs": [
        {
          "output_type": "execute_result",
          "data": {
            "text/plain": [
              "Empty DataFrame\n",
              "Columns: [product_id, name, category, price]\n",
              "Index: []"
            ],
            "text/html": [
              "\n",
              "  <div id=\"df-6707d38d-0078-4eaf-b4df-48fc33327b67\">\n",
              "    <div class=\"colab-df-container\">\n",
              "      <div>\n",
              "<style scoped>\n",
              "    .dataframe tbody tr th:only-of-type {\n",
              "        vertical-align: middle;\n",
              "    }\n",
              "\n",
              "    .dataframe tbody tr th {\n",
              "        vertical-align: top;\n",
              "    }\n",
              "\n",
              "    .dataframe thead th {\n",
              "        text-align: right;\n",
              "    }\n",
              "</style>\n",
              "<table border=\"1\" class=\"dataframe\">\n",
              "  <thead>\n",
              "    <tr style=\"text-align: right;\">\n",
              "      <th></th>\n",
              "      <th>product_id</th>\n",
              "      <th>name</th>\n",
              "      <th>category</th>\n",
              "      <th>price</th>\n",
              "    </tr>\n",
              "  </thead>\n",
              "  <tbody>\n",
              "  </tbody>\n",
              "</table>\n",
              "</div>\n",
              "      <button class=\"colab-df-convert\" onclick=\"convertToInteractive('df-6707d38d-0078-4eaf-b4df-48fc33327b67')\"\n",
              "              title=\"Convert this dataframe to an interactive table.\"\n",
              "              style=\"display:none;\">\n",
              "        \n",
              "  <svg xmlns=\"http://www.w3.org/2000/svg\" height=\"24px\"viewBox=\"0 0 24 24\"\n",
              "       width=\"24px\">\n",
              "    <path d=\"M0 0h24v24H0V0z\" fill=\"none\"/>\n",
              "    <path d=\"M18.56 5.44l.94 2.06.94-2.06 2.06-.94-2.06-.94-.94-2.06-.94 2.06-2.06.94zm-11 1L8.5 8.5l.94-2.06 2.06-.94-2.06-.94L8.5 2.5l-.94 2.06-2.06.94zm10 10l.94 2.06.94-2.06 2.06-.94-2.06-.94-.94-2.06-.94 2.06-2.06.94z\"/><path d=\"M17.41 7.96l-1.37-1.37c-.4-.4-.92-.59-1.43-.59-.52 0-1.04.2-1.43.59L10.3 9.45l-7.72 7.72c-.78.78-.78 2.05 0 2.83L4 21.41c.39.39.9.59 1.41.59.51 0 1.02-.2 1.41-.59l7.78-7.78 2.81-2.81c.8-.78.8-2.07 0-2.86zM5.41 20L4 18.59l7.72-7.72 1.47 1.35L5.41 20z\"/>\n",
              "  </svg>\n",
              "      </button>\n",
              "      \n",
              "  <style>\n",
              "    .colab-df-container {\n",
              "      display:flex;\n",
              "      flex-wrap:wrap;\n",
              "      gap: 12px;\n",
              "    }\n",
              "\n",
              "    .colab-df-convert {\n",
              "      background-color: #E8F0FE;\n",
              "      border: none;\n",
              "      border-radius: 50%;\n",
              "      cursor: pointer;\n",
              "      display: none;\n",
              "      fill: #1967D2;\n",
              "      height: 32px;\n",
              "      padding: 0 0 0 0;\n",
              "      width: 32px;\n",
              "    }\n",
              "\n",
              "    .colab-df-convert:hover {\n",
              "      background-color: #E2EBFA;\n",
              "      box-shadow: 0px 1px 2px rgba(60, 64, 67, 0.3), 0px 1px 3px 1px rgba(60, 64, 67, 0.15);\n",
              "      fill: #174EA6;\n",
              "    }\n",
              "\n",
              "    [theme=dark] .colab-df-convert {\n",
              "      background-color: #3B4455;\n",
              "      fill: #D2E3FC;\n",
              "    }\n",
              "\n",
              "    [theme=dark] .colab-df-convert:hover {\n",
              "      background-color: #434B5C;\n",
              "      box-shadow: 0px 1px 3px 1px rgba(0, 0, 0, 0.15);\n",
              "      filter: drop-shadow(0px 1px 2px rgba(0, 0, 0, 0.3));\n",
              "      fill: #FFFFFF;\n",
              "    }\n",
              "  </style>\n",
              "\n",
              "      <script>\n",
              "        const buttonEl =\n",
              "          document.querySelector('#df-6707d38d-0078-4eaf-b4df-48fc33327b67 button.colab-df-convert');\n",
              "        buttonEl.style.display =\n",
              "          google.colab.kernel.accessAllowed ? 'block' : 'none';\n",
              "\n",
              "        async function convertToInteractive(key) {\n",
              "          const element = document.querySelector('#df-6707d38d-0078-4eaf-b4df-48fc33327b67');\n",
              "          const dataTable =\n",
              "            await google.colab.kernel.invokeFunction('convertToInteractive',\n",
              "                                                     [key], {});\n",
              "          if (!dataTable) return;\n",
              "\n",
              "          const docLinkHtml = 'Like what you see? Visit the ' +\n",
              "            '<a target=\"_blank\" href=https://colab.research.google.com/notebooks/data_table.ipynb>data table notebook</a>'\n",
              "            + ' to learn more about interactive tables.';\n",
              "          element.innerHTML = '';\n",
              "          dataTable['output_type'] = 'display_data';\n",
              "          await google.colab.output.renderOutput(dataTable, element);\n",
              "          const docLink = document.createElement('div');\n",
              "          docLink.innerHTML = docLinkHtml;\n",
              "          element.appendChild(docLink);\n",
              "        }\n",
              "      </script>\n",
              "    </div>\n",
              "  </div>\n",
              "  "
            ]
          },
          "metadata": {},
          "execution_count": 94
        }
      ]
    },
    {
      "cell_type": "code",
      "source": [
        "df2 = df.groupby(['category'])['price'].sum()"
      ],
      "metadata": {
        "id": "OpgmvpRVu0es"
      },
      "execution_count": 95,
      "outputs": []
    }
  ]
}